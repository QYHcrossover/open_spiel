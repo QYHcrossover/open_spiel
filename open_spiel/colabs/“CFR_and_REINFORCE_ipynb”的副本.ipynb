{
  "cells": [
    {
      "cell_type": "markdown",
      "metadata": {
        "id": "gNlXrRnVGmb8"
      },
      "source": [
        "This colab has an [accompanying video](https://www.youtube.com/watch?v=o6JNHoGUXCo)"
      ]
    },
    {
      "cell_type": "code",
      "source": [
        "!pip install open_spiel"
      ],
      "metadata": {
        "colab": {
          "base_uri": "https://localhost:8080/"
        },
        "id": "TI7slo4Jr4oe",
        "outputId": "f72055fc-9664-4a89-eaf6-f4e46ba994fb"
      },
      "execution_count": null,
      "outputs": [
        {
          "output_type": "stream",
          "name": "stdout",
          "text": [
            "Collecting open_spiel\n",
            "  Downloading open_spiel-1.0.2-cp37-cp37m-manylinux_2_17_x86_64.manylinux2014_x86_64.whl (4.2 MB)\n",
            "\u001b[K     |████████████████████████████████| 4.2 MB 18.2 MB/s \n",
            "\u001b[?25hRequirement already satisfied: absl-py>=0.10.0 in /usr/local/lib/python3.7/dist-packages (from open_spiel) (0.12.0)\n",
            "Requirement already satisfied: numpy>=1.16 in /usr/local/lib/python3.7/dist-packages (from open_spiel) (1.19.5)\n",
            "Requirement already satisfied: attrs>=19.3.0 in /usr/local/lib/python3.7/dist-packages (from open_spiel) (21.2.0)\n",
            "Requirement already satisfied: pip>=20.0.2 in /usr/local/lib/python3.7/dist-packages (from open_spiel) (21.1.3)\n",
            "Requirement already satisfied: six in /usr/local/lib/python3.7/dist-packages (from absl-py>=0.10.0->open_spiel) (1.15.0)\n",
            "Installing collected packages: open-spiel\n",
            "Successfully installed open-spiel-1.0.2\n"
          ]
        }
      ]
    },
    {
      "cell_type": "code",
      "execution_count": null,
      "metadata": {
        "id": "RXVkGtU5Hq9E"
      },
      "outputs": [],
      "source": [
        "import itertools as it\n",
        "from matplotlib import pyplot as plt\n",
        "import numpy as np\n",
        "import pyspiel\n",
        "\n",
        "from open_spiel.python.algorithms import exploitability\n",
        "from open_spiel.python import policy as policy_lib\n",
        "\n",
        "np.set_printoptions(precision=3, suppress=True, floatmode='fixed')"
      ]
    },
    {
      "cell_type": "code",
      "execution_count": null,
      "metadata": {
        "id": "shtvgpHzMrcN",
        "colab": {
          "base_uri": "https://localhost:8080/"
        },
        "outputId": "9020be63-9cfb-4a2c-9691-be5d9bd1d287"
      },
      "outputs": [
        {
          "output_type": "stream",
          "name": "stdout",
          "text": [
            "...\n",
            "...\n",
            "...\n",
            "Taking action 5 x(1,2)\n",
            "...\n",
            "..x\n",
            "...\n",
            "Taking action 8 o(2,2)\n",
            "...\n",
            "..x\n",
            "..o\n",
            "Taking action 3 x(1,0)\n",
            "...\n",
            "x.x\n",
            "..o\n",
            "Taking action 4 o(1,1)\n",
            "...\n",
            "xox\n",
            "..o\n",
            "Taking action 2 x(0,2)\n",
            "..x\n",
            "xox\n",
            "..o\n",
            "Taking action 1 o(0,1)\n",
            ".ox\n",
            "xox\n",
            "..o\n",
            "Taking action 6 x(2,0)\n",
            ".ox\n",
            "xox\n",
            "x.o\n",
            "Taking action 0 o(0,0)\n",
            "oox\n",
            "xox\n",
            "x.o\n",
            "Game over; returns [-1.0, 1.0]\n"
          ]
        }
      ],
      "source": [
        "game = pyspiel.load_game('tic_tac_toe')\n",
        "state = game.new_initial_state()\n",
        "\n",
        "print(state)\n",
        "while not state.is_terminal():\n",
        "  action = np.random.choice(state.legal_actions())\n",
        "  print(f'Taking action {action} {state.action_to_string(action)}')\n",
        "  state.apply_action(action)\n",
        "  print(state)\n",
        "print(f'Game over; returns {state.returns()}')"
      ]
    },
    {
      "cell_type": "code",
      "execution_count": null,
      "metadata": {
        "id": "VOaIgtInHyUs",
        "colab": {
          "base_uri": "https://localhost:8080/"
        },
        "outputId": "12261ba9-63f2-4fb5-f4ea-79933098b540"
      },
      "outputs": [
        {
          "output_type": "stream",
          "name": "stdout",
          "text": [
            "short_name: kuhn_poker\n",
            "long_name: Kuhn Poker\n",
            "dynamics: Sequential\n",
            "chance_mode: ExplicitStochastic\n",
            "information: ImperfectInformation\n",
            "utility: ZeroSum\n",
            "reward_model: Terminal\n",
            "max_num_players: 10\n",
            "min_num_players: 2\n",
            "provides_information_state_string: true\n",
            "provides_information_state_tensor: true\n",
            "provides_observation_string: true\n",
            "provides_observation_tensor: true\n",
            "provides_factored_observation_string: true\n",
            "parameter_specification: players=kInt***2***false\n"
          ]
        }
      ],
      "source": [
        "game = pyspiel.load_game('kuhn_poker')\n",
        "print(game.get_type().pretty_print())"
      ]
    },
    {
      "cell_type": "code",
      "execution_count": null,
      "metadata": {
        "id": "PwNaIqi4IlfL",
        "colab": {
          "base_uri": "https://localhost:8080/"
        },
        "outputId": "1bdc5d9a-1d4d-40b0-988d-ae58e4c9dc8f"
      },
      "outputs": [
        {
          "output_type": "stream",
          "name": "stdout",
          "text": [
            "[['0', '0pb', '1', '1pb', '2', '2pb'], ['1p', '1b', '2p', '2b', '0p', '0b']]\n",
            "[[0.500 0.500]\n",
            " [0.500 0.500]\n",
            " [0.500 0.500]\n",
            " [0.500 0.500]\n",
            " [0.500 0.500]\n",
            " [0.500 0.500]\n",
            " [0.500 0.500]\n",
            " [0.500 0.500]\n",
            " [0.500 0.500]\n",
            " [0.500 0.500]\n",
            " [0.500 0.500]\n",
            " [0.500 0.500]]\n"
          ]
        }
      ],
      "source": [
        "policy = policy_lib.TabularPolicy(game)\n",
        "print(policy.states_per_player)\n",
        "print(policy.action_probability_array)"
      ]
    },
    {
      "cell_type": "code",
      "execution_count": null,
      "metadata": {
        "id": "WJJPURUH_n64",
        "colab": {
          "base_uri": "https://localhost:8080/"
        },
        "outputId": "bc280e8e-abbe-442c-c443-d287d7713703"
      },
      "outputs": [
        {
          "output_type": "stream",
          "name": "stdout",
          "text": [
            "0        p=[0.500 0.500]\n",
            "0pb      p=[0.500 0.500]\n",
            "1        p=[0.500 0.500]\n",
            "1pb      p=[0.500 0.500]\n",
            "2        p=[0.500 0.500]\n",
            "2pb      p=[0.500 0.500]\n",
            "1p       p=[0.500 0.500]\n",
            "1b       p=[0.500 0.500]\n",
            "2p       p=[0.500 0.500]\n",
            "2b       p=[0.500 0.500]\n",
            "0p       p=[0.500 0.500]\n",
            "0b       p=[0.500 0.500]\n"
          ]
        }
      ],
      "source": [
        "def print_policy(policy):\n",
        "  for state, probs in zip(it.chain(*policy.states_per_player),\n",
        "                          policy.action_probability_array):\n",
        "    print(f'{state:6}   p={probs}')\n",
        "\n",
        "print_policy(policy)"
      ]
    },
    {
      "cell_type": "code",
      "execution_count": null,
      "metadata": {
        "id": "qbEt7PpRkrpq",
        "colab": {
          "base_uri": "https://localhost:8080/"
        },
        "outputId": "820d1ef8-2d2e-43b4-ae20-0e1757269030"
      },
      "outputs": [
        {
          "output_type": "stream",
          "name": "stdout",
          "text": [
            "0.9166666666666666\n"
          ]
        }
      ],
      "source": [
        "print(exploitability.nash_conv(game, policy))"
      ]
    },
    {
      "cell_type": "code",
      "execution_count": null,
      "metadata": {
        "id": "bYkVJGQnIxx4"
      },
      "outputs": [],
      "source": [
        "def new_reach(so_far, player, action_prob):\n",
        "  \"\"\"Returns new reach probabilities.\"\"\"\n",
        "  new = np.array(so_far)\n",
        "  new[player] *= action_prob\n",
        "  return new\n",
        "\n",
        "def calc_cfr(state, reach):\n",
        "  \"\"\"Updates regrets; returns utility for all players.\"\"\"\n",
        "  if state.is_terminal():\n",
        "    return state.returns() #如果是终止节点，则返回回报；注意这里的回报是个list,表示所有player的回报\n",
        "  elif state.is_chance_node():\n",
        "    return sum(prob * calc_cfr(state.child(action), new_reach(reach, -1, prob))\n",
        "               for action, prob in state.chance_outcomes()) #如果是随机节点，则返回回报值的期望\n",
        "  else:\n",
        "    # We are at a player decision point.\n",
        "    player = state.current_player()\n",
        "    index = policy.state_index(state) \n",
        "    \n",
        "    # Compute utilities after each action, updating regrets deeper in the tree.\n",
        "    utility = np.zeros((game.num_distinct_actions(), game.num_players())) #utility为各个动作的原始回报值\n",
        "    for action in state.legal_actions():\n",
        "      prob = curr_policy[index][action]\n",
        "      utility[action] = calc_cfr(state.child(action), new_reach(reach, player, prob))\n",
        "\n",
        "    # Compute regrets at this state.\n",
        "    cfr_prob = np.prod(reach[:player]) * np.prod(reach[player+1:]) #计算到达该state的概率，为除自己外其他玩家的概率的乘积\n",
        "    value = np.einsum('ap,a->p', utility, curr_policy[index]) #value是期望回报值，为\n",
        "    for action in state.legal_actions():\n",
        "      regrets[index][action] += cfr_prob * (utility[action][player] - value[player]) #utility-value为遗憾值，遗憾值还要再乘上到达该state的概率\n",
        "\n",
        "    # Return the value of this state for all players.\n",
        "    return value"
      ]
    },
    {
      "cell_type": "code",
      "execution_count": null,
      "metadata": {
        "id": "ueprrRS9NbO_",
        "colab": {
          "base_uri": "https://localhost:8080/"
        },
        "outputId": "a0d5ba86-8d74-4ecd-e3af-37484de0abe6"
      },
      "outputs": [
        {
          "output_type": "stream",
          "name": "stdout",
          "text": [
            "Nash conv after step 0 is 0.6666666666666656\n",
            "Nash conv after step 1 is 0.5833333333333321\n",
            "Nash conv after step 2 is 0.4814814814814816\n",
            "Nash conv after step 4 is 0.27956581948517456\n",
            "Nash conv after step 8 is 0.2045374078549737\n",
            "Nash conv after step 16 is 0.0957019801773486\n",
            "Nash conv after step 32 is 0.09602625213077909\n",
            "Nash conv after step 64 is 0.05657638349057331\n",
            "Nash conv after step 128 is 0.035512027875593655\n"
          ]
        }
      ],
      "source": [
        "game = pyspiel.load_game('kuhn_poker')\n",
        "# game = pyspiel.load_game('turn_based_simultaneous_game(game=goofspiel(imp_info=true,num_cards=4,players=2,points_order=descending))')\n",
        "policy = policy_lib.TabularPolicy(game)\n",
        "initial_state = game.new_initial_state()\n",
        "curr_policy = policy.action_probability_array.copy()\n",
        "regrets = np.zeros_like(policy.action_probability_array)\n",
        "eval_steps = []\n",
        "eval_nash_conv = []\n",
        "for step in range(129):\n",
        "  # Compute regrets\n",
        "  calc_cfr(initial_state, np.ones(1 + game.num_players()))\n",
        " \n",
        "  # Find the new regret-matching policy\n",
        "  floored_regrets = np.maximum(regrets, 1e-16)\n",
        "  sum_floored_regrets = np.sum(floored_regrets, axis=1, keepdims=True)\n",
        "  curr_policy = floored_regrets / sum_floored_regrets\n",
        "\n",
        "  # Update the average policy\n",
        "  lr = 1 / (1 + step)\n",
        "  policy.action_probability_array *= (1 - lr)\n",
        "  policy.action_probability_array += curr_policy * lr\n",
        "\n",
        "  # Evaluate the average policy\n",
        "  if step & (step-1) == 0:\n",
        "    nc = exploitability.nash_conv(game, policy)\n",
        "    eval_steps.append(step)\n",
        "    eval_nash_conv.append(nc)\n",
        "    print(f'Nash conv after step {step} is {nc}')"
      ]
    },
    {
      "cell_type": "code",
      "execution_count": null,
      "metadata": {
        "id": "3p1_k0gMocEp",
        "colab": {
          "base_uri": "https://localhost:8080/",
          "height": 281
        },
        "outputId": "ca14c29f-bbfa-412e-f07e-cc302cf90dba"
      },
      "outputs": [
        {
          "output_type": "display_data",
          "data": {
            "image/png": "[encoded data removed]",
            "text/plain": [
              "<Figure size 432x288 with 1 Axes>"
            ]
          },
          "metadata": {
            "needs_background": "light"
          }
        }
      ],
      "source": [
        "fig, ax = plt.subplots()\n",
        "ax.set_title(\"NashConv by CFR Iteration\")\n",
        "ax.plot(eval_steps, eval_nash_conv)\n",
        "fig.show()"
      ]
    },
    {
      "cell_type": "code",
      "execution_count": null,
      "metadata": {
        "id": "qZI7PtXFoq0l",
        "colab": {
          "base_uri": "https://localhost:8080/",
          "height": 285
        },
        "outputId": "e6956c11-6097-413e-a440-37755001893f"
      },
      "outputs": [
        {
          "output_type": "display_data",
          "data": {
            "image/png": "[encoded data removed]",
            "text/plain": [
              "<Figure size 432x288 with 1 Axes>"
            ]
          },
          "metadata": {
            "needs_background": "light"
          }
        }
      ],
      "source": [
        "fig, ax = plt.subplots()\n",
        "ax.set_title(\"NashConv by CFR Iteration (log-log scale)\")\n",
        "ax.loglog(eval_steps, eval_nash_conv)\n",
        "fig.show()"
      ]
    },
    {
      "cell_type": "code",
      "execution_count": null,
      "metadata": {
        "id": "orVhRjWBsBWx",
        "colab": {
          "base_uri": "https://localhost:8080/"
        },
        "outputId": "5ae463ad-1693-4be1-8689-9e0ac8c29dda"
      },
      "outputs": [
        {
          "output_type": "stream",
          "name": "stdout",
          "text": [
            "0        p=[0.853 0.147]\n",
            "0pb      p=[1.000 0.000]\n",
            "1        p=[0.977 0.023]\n",
            "1pb      p=[0.503 0.497]\n",
            "2        p=[0.346 0.654]\n",
            "2pb      p=[0.000 1.000]\n",
            "1p       p=[0.975 0.025]\n",
            "1b       p=[0.635 0.365]\n",
            "2p       p=[0.000 1.000]\n",
            "2b       p=[0.000 1.000]\n",
            "0p       p=[0.665 0.335]\n",
            "0b       p=[1.000 0.000]\n",
            "P(bet with Jack) = alpha = 0.147\n",
            "P(bet with King) = 0.654, cf 0.44\n",
            "P(call with Queen after checking) = 0.497, cf 0.48\n"
          ]
        }
      ],
      "source": [
        "# Display the whole policy\n",
        "print_policy(policy)\n",
        "\n",
        "# How likely are we to bet with a Jack?\n",
        "alpha = policy.action_probability_array[policy.state_lookup['0']][1]\n",
        "print(f'P(bet with Jack) = alpha = {alpha:.3}')\n",
        "\n",
        "# How likely are we to bet with a King?\n",
        "pK = policy.action_probability_array[policy.state_lookup['2']][1]\n",
        "print(f'P(bet with King) = {pK:.3}, cf {alpha * 3:.3}')\n",
        "\n",
        "# How likely are we to call with a Queen?\n",
        "pQ = policy.action_probability_array[policy.state_lookup['1pb']][1]\n",
        "print(f'P(call with Queen after checking) = {pQ:.3}, cf {alpha + 1/3:.3}')\n"
      ]
    },
    {
      "cell_type": "code",
      "execution_count": null,
      "metadata": {
        "id": "_rflT-jousiH"
      },
      "outputs": [],
      "source": [
        "def sample(actions_and_probs):\n",
        "  actions, probs = zip(*actions_and_probs)\n",
        "  return np.random.choice(actions, p=probs)\n",
        "\n",
        "def policy_as_list(policy, state):\n",
        "  return list(enumerate(policy.policy_for_key(state.information_state_string())))\n",
        "\n",
        "def env_action(state):\n",
        "  if state.is_chance_node():\n",
        "    p = state.chance_outcomes()\n",
        "  else:\n",
        "    p = policy_as_list(fixed_policy, state)\n",
        "  return sample(p)\n",
        "\n",
        "def softmax(x):\n",
        "  x = np.exp(x - np.max(x, axis=-1, keepdims=True))\n",
        "  return x / np.sum(x, axis=-1, keepdims=True)\n",
        "\n",
        "def generate_trajectory(state, player):\n",
        "  trajectory = []\n",
        "  while not state.is_terminal():\n",
        "    if state.current_player() == player:\n",
        "      action = sample(policy_as_list(rl_policy, state))\n",
        "      trajectory.append((rl_policy.state_index(state), action))\n",
        "    else:\n",
        "      action = env_action(state)\n",
        "    state.apply_action(action)\n",
        "  return trajectory, state.returns()[player]\n"
      ]
    },
    {
      "cell_type": "code",
      "execution_count": null,
      "metadata": {
        "id": "Y9Sn8g147_90",
        "colab": {
          "base_uri": "https://localhost:8080/"
        },
        "outputId": "c72aa42d-e1b4-4990-80c3-be004c1b6f09"
      },
      "outputs": [
        {
          "output_type": "stream",
          "name": "stdout",
          "text": [
            "([(0, 0)], -1.0)\n",
            "([(4, 1)], 1.0)\n",
            "([(0, 1)], 1.0)\n",
            "([(4, 0)], 1.0)\n",
            "([(0, 1)], -2.0)\n"
          ]
        }
      ],
      "source": [
        "fixed_policy = policy_lib.TabularPolicy(game)\n",
        "rl_policy = policy_lib.TabularPolicy(game)\n",
        "for _ in range(5):\n",
        "  print(generate_trajectory(game.new_initial_state(), player=0))"
      ]
    },
    {
      "cell_type": "code",
      "execution_count": null,
      "metadata": {
        "id": "R_L2KQ5u9Nc3"
      },
      "outputs": [],
      "source": [
        "# Run REINFORCE\n",
        "N = 10000\n",
        "lr = 0.01\n",
        "for step in range(N):\n",
        "  for player in (0, 1):\n",
        "    trajectory, reward = generate_trajectory(game.new_initial_state(), player)\n",
        "    for s, a in trajectory:\n",
        "      logits = np.log(rl_policy.action_probability_array[s])\n",
        "      logits[a] += lr * reward\n",
        "      rl_policy.action_probability_array[s] = softmax(logits)"
      ]
    },
    {
      "cell_type": "code",
      "execution_count": null,
      "metadata": {
        "id": "8-25i6xFRUqC",
        "colab": {
          "base_uri": "https://localhost:8080/"
        },
        "outputId": "351e1d27-a0e4-405f-cbe2-19178fea20f3"
      },
      "outputs": [
        {
          "output_type": "stream",
          "name": "stdout",
          "text": [
            "0        p=[0.273 0.727]\n",
            "0pb      p=[0.690 0.310]\n",
            "1        p=[0.000 1.000]\n",
            "1pb      p=[0.458 0.542]\n",
            "2        p=[0.000 1.000]\n",
            "2pb      p=[0.297 0.703]\n",
            "1p       p=[0.001 0.999]\n",
            "1b       p=[0.031 0.969]\n",
            "2p       p=[0.000 1.000]\n",
            "2b       p=[0.000 1.000]\n",
            "0p       p=[0.366 0.634]\n",
            "0b       p=[0.677 0.323]\n"
          ]
        },
        {
          "output_type": "execute_result",
          "data": {
            "text/plain": [
              "0.7675353731991239"
            ]
          },
          "metadata": {},
          "execution_count": 17
        }
      ],
      "source": [
        "# Evaluate the policy\n",
        "def evaluate(state, rl_policy, player):\n",
        "  if state.is_terminal():\n",
        "    return state.returns()[player]\n",
        "  elif state.current_player() == player:\n",
        "    ap = policy_as_list(rl_policy, state)\n",
        "  elif state.is_chance_node():\n",
        "    ap = state.chance_outcomes()\n",
        "  else:\n",
        "    ap = policy_as_list(fixed_policy, state)\n",
        "  return sum(p * evaluate(state.child(a), rl_policy, player) for a, p in ap)\n",
        "\n",
        "def eval(rl_policy):\n",
        "  return (evaluate(game.new_initial_state(), rl_policy, player=0)\n",
        "        + evaluate(game.new_initial_state(), rl_policy, player=1))\n",
        "\n",
        "print_policy(rl_policy)\n",
        "eval(rl_policy)"
      ]
    },
    {
      "cell_type": "code",
      "execution_count": null,
      "metadata": {
        "id": "IZX8G1sGLSBT",
        "colab": {
          "base_uri": "https://localhost:8080/"
        },
        "outputId": "7f1030ca-8c07-4f6b-b9d3-ee779cbc9a4d"
      },
      "outputs": [
        {
          "output_type": "stream",
          "name": "stdout",
          "text": [
            "0        p=[0.000 1.000]\n",
            "0pb      p=[1.000 0.000]\n",
            "1        p=[0.000 1.000]\n",
            "1pb      p=[0.000 1.000]\n",
            "2        p=[0.000 1.000]\n",
            "2pb      p=[0.000 1.000]\n",
            "1p       p=[0.000 1.000]\n",
            "1b       p=[0.000 1.000]\n",
            "2p       p=[0.000 1.000]\n",
            "2b       p=[0.000 1.000]\n",
            "0p       p=[0.000 1.000]\n",
            "0b       p=[1.000 0.000]\n"
          ]
        },
        {
          "output_type": "execute_result",
          "data": {
            "text/plain": [
              "0.9166666666666665"
            ]
          },
          "metadata": {},
          "execution_count": 18
        }
      ],
      "source": [
        "# Evaluate the greedy policy\n",
        "greedy_policy = policy_lib.TabularPolicy(game)\n",
        "greedy_policy.action_probability_array = (np.eye(game.num_distinct_actions())\n",
        "              [np.argmax(rl_policy.action_probability_array, axis=-1)])\n",
        "\n",
        "print_policy(greedy_policy)\n",
        "eval(greedy_policy)"
      ]
    }
  ],
  "metadata": {
    "colab": {
      "collapsed_sections": [],
      "name": "“CFR_and_REINFORCE.ipynb”的副本",
      "provenance": []
    },
    "kernelspec": {
      "display_name": "Python 3",
      "name": "python3"
    },
    "language_info": {
      "name": "python"
    }
  },
  "nbformat": 4,
  "nbformat_minor": 0
}